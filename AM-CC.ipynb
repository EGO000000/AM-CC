{
  "nbformat": 4,
  "nbformat_minor": 0,
  "metadata": {
    "colab": {
      "provenance": [],
      "authorship_tag": "ABX9TyPlvj72ZyBSJRT69uio/ZPJ"
    },
    "kernelspec": {
      "name": "python3",
      "display_name": "Python 3"
    },
    "language_info": {
      "name": "python"
    }
  },
  "cells": [
    {
      "cell_type": "code",
      "execution_count": 4,
      "metadata": {
        "id": "b5CeRTD4126L",
        "outputId": "3f95d953-3c9f-4e05-a8c9-b04450aa77d5",
        "colab": {
          "base_uri": "https://localhost:8080/"
        }
      },
      "outputs": [
        {
          "output_type": "stream",
          "name": "stdout",
          "text": [
            "Shape of the array: (350, 940, 3)\n"
          ]
        }
      ],
      "source": [
        "from PIL import Image\n",
        "import numpy as np\n",
        "\n",
        "# Откройте изображение\n",
        "image = Image.open('/kot-ili-koshka-header smaller.jpg')\n",
        "\n",
        "# Преобразуйте изображение в массив numpy\n",
        "img_array = np.array(image)\n",
        "\n",
        "# Печатаем форму массива\n",
        "print('Shape of the array:', img_array.shape)"
      ]
    }
  ]
}